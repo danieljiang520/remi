{
 "cells": [
  {
   "cell_type": "code",
   "execution_count": null,
   "metadata": {
    "vscode": {
     "languageId": "plaintext"
    }
   },
   "outputs": [],
   "source": [
    "from model import PopMusicTransformer\n",
    "import os\n",
    "os.environ['CUDA_VISIBLE_DEVICES'] = '0'"
   ]
  },
  {
   "cell_type": "code",
   "execution_count": null,
   "metadata": {
    "vscode": {
     "languageId": "plaintext"
    }
   },
   "outputs": [],
   "source": [
    "def main():\n",
    "   # declare model\n",
    "   model = PopMusicTransformer(\n",
    "       checkpoint='REMI-tempo-chord-checkpoint',\n",
    "       is_training=False)\n",
    "\n",
    "   # generate from scratch\n",
    "   model.generate(\n",
    "       n_target_bar=24,\n",
    "       temperature=1.2,\n",
    "       topk=5,\n",
    "       output_path='./result/from_scratch.midi',\n",
    "       prompt=None)\n",
    "\n",
    "\n",
    "   # close model\n",
    "   model.close()\n",
    "\n",
    "if __name__ == '__main__':\n",
    "   main()"
   ]
  }
 ],
 "metadata": {
  "language_info": {
   "name": "python"
  }
 },
 "nbformat": 4,
 "nbformat_minor": 2
}
